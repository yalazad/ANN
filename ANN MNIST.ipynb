{
 "cells": [
  {
   "cell_type": "code",
   "execution_count": 1,
   "metadata": {},
   "outputs": [],
   "source": [
    "from keras.datasets import mnist\n",
    "from keras.utils import to_categorical\n",
    "from keras.models import Sequential\n",
    "from keras.layers import Conv2D\n",
    "from keras.layers import MaxPooling2D\n",
    "from keras.layers import Dense\n",
    "from keras.layers import Flatten\n",
    "from keras.optimizers import SGD\n",
    "from keras.models import load_model\n",
    "import pandas as pd\n",
    "import numpy as np\n",
    "import tensorflow as tf\n",
    "\n",
    "# LOAD THE DATA\n",
    "train = pd.read_csv(\"C:/Users/yalaz/Documents/DSTI/Modules/ANN/Assignment/Mix1/train_mix1.csv\", header=None)\n",
    "test = pd.read_csv(\"C:/Users/yalaz/Documents/DSTI/Modules/ANN/Assignment/Mix1/test_mix1.csv\", header=None)\n",
    "\n",
    "# PREPARE DATA FOR NEURAL NETWORK\n",
    "Y_train = train.iloc[:,-1]#only the last column\n",
    "X_train = train.iloc[:,:-1]#everything except the last column\n",
    "\n",
    "X_test = test.iloc[:,:-1]#everything except the last column\n",
    "Y_test = test.iloc[:,-1]#only the last column \n",
    "\n",
    "X_train = X_train.values.reshape(-1,28,28,1)\n",
    "X_test = X_test.values.reshape(-1,28,28,1)\n",
    "\n",
    "Y_train = to_categorical(Y_train, num_classes = 10)\n",
    "Y_test = to_categorical(Y_test, num_classes = 10)"
   ]
  },
  {
   "cell_type": "code",
   "execution_count": 2,
   "metadata": {},
   "outputs": [],
   "source": [
    "from sklearn.model_selection import train_test_split\n",
    "# Set the random seed\n",
    "random_seed = 2\n",
    "# Split the train and the validation set for the fitting\n",
    "X_train, X_val, Y_train, Y_val = train_test_split(X_train, Y_train, test_size = 0.1, random_state=random_seed)"
   ]
  },
  {
   "cell_type": "code",
   "execution_count": 3,
   "metadata": {},
   "outputs": [
    {
     "data": {
      "image/png": "[encoded data removed]",
      "text/plain": [
       "<Figure size 432x288 with 1 Axes>"
      ]
     },
     "metadata": {
      "needs_background": "light"
     },
     "output_type": "display_data"
    }
   ],
   "source": [
    "import matplotlib.pyplot as plt\n",
    "# Some examples\n",
    "g = plt.imshow(X_train[0][:,:,0])"
   ]
  },
  {
   "cell_type": "code",
   "execution_count": 24,
   "metadata": {},
   "outputs": [],
   "source": [
    "from keras.layers import BatchNormalization, Conv2D, MaxPool2D\n",
    "from keras.layers.core import Dense, Dropout, Activation\n",
    "from keras.models import Sequential\n",
    "from keras.optimizers import RMSprop\n",
    "from tensorflow.keras.optimizers import Adam\n",
    "from tensorflow.keras.optimizers import Adadelta\n",
    "from keras.layers import Flatten\n",
    "from tensorflow import keras\n",
    "\n",
    "# Set the CNN model \n",
    "model = Sequential()\n",
    "\n",
    "model.add(Conv2D(32,kernel_size=3,activation='relu',input_shape=(28,28,1)))\n",
    "model.add(BatchNormalization())\n",
    "model.add(Conv2D(32,kernel_size=3,activation='relu'))\n",
    "model.add(BatchNormalization())\n",
    "model.add(Conv2D(32,kernel_size=5,strides=2,padding='same',activation='relu'))\n",
    "model.add(BatchNormalization())\n",
    "model.add(Dropout(0.6))\n",
    "\n",
    "model.add(Conv2D(64,kernel_size=3,activation='relu'))\n",
    "model.add(BatchNormalization())\n",
    "model.add(Conv2D(64,kernel_size=3,activation='relu'))\n",
    "model.add(BatchNormalization())\n",
    "model.add(Conv2D(64,kernel_size=5,strides=2,padding='same',activation='relu'))\n",
    "model.add(BatchNormalization())\n",
    "model.add(Dropout(0.4))\n",
    "\n",
    "model.add(Conv2D(128, kernel_size = 3, activation='relu'))\n",
    "model.add(BatchNormalization())\n",
    "model.add(Flatten())\n",
    "model.add(Dropout(0.4))\n",
    "model.add(Dense(10, activation='softmax'))\n",
    "\n",
    "# Define the optimizer\n",
    "optimizer = RMSprop(lr=0.05, rho=0.9, epsilon=1e-08, decay=0.0)\n",
    "\n",
    "# Compile the model\n",
    "model.compile(optimizer = optimizer , loss = \"categorical_crossentropy\", metrics=[\"accuracy\"])"
   ]
  },
  {
   "cell_type": "code",
   "execution_count": 3,
   "metadata": {},
   "outputs": [],
   "source": [
    "# Set a learning rate annealer\n",
    "learning_rate_reduction = tf.keras.callbacks.ReduceLROnPlateau(monitor='val_accuracy', \n",
    "                                            patience=3, \n",
    "                                            verbose=1, \n",
    "                                            factor=0.5, \n",
    "                                            min_lr=0.00001)\n"
   ]
  },
  {
   "cell_type": "code",
   "execution_count": 4,
   "metadata": {},
   "outputs": [],
   "source": [
    "datagen = tf.keras.preprocessing.image.ImageDataGenerator(\n",
    "        rotation_range=10,\n",
    "        zoom_range = 0.10,  \n",
    "        width_shift_range=0.1, \n",
    "        height_shift_range=0.1)\n",
    "\n",
    "datagen.fit(X_train)"
   ]
  },
  {
   "cell_type": "code",
   "execution_count": null,
   "metadata": {},
   "outputs": [
    {
     "name": "stdout",
     "output_type": "stream",
     "text": [
      "Epoch 1/30\n",
      "141/141 - 12s - loss: 1.3662 - accuracy: 0.6129 - val_loss: 1.9852 - val_accuracy: 0.6930\n",
      "Epoch 2/30\n",
      "141/141 - 13s - loss: 0.5428 - accuracy: 0.8308 - val_loss: 1.3100 - val_accuracy: 0.6920\n",
      "Epoch 3/30\n",
      "141/141 - 13s - loss: 0.3800 - accuracy: 0.8826 - val_loss: 0.3726 - val_accuracy: 0.9070\n",
      "Epoch 4/30\n",
      "141/141 - 13s - loss: 0.3162 - accuracy: 0.9003 - val_loss: 0.5038 - val_accuracy: 0.8860\n",
      "Epoch 5/30\n",
      "141/141 - 14s - loss: 0.2894 - accuracy: 0.9091 - val_loss: 0.2952 - val_accuracy: 0.9270\n",
      "Epoch 6/30\n",
      "141/141 - 14s - loss: 0.2478 - accuracy: 0.9240 - val_loss: 0.5088 - val_accuracy: 0.8650\n",
      "Epoch 7/30\n",
      "141/141 - 14s - loss: 0.2492 - accuracy: 0.9237 - val_loss: 0.3857 - val_accuracy: 0.9010\n",
      "Epoch 8/30\n",
      "141/141 - 14s - loss: 0.2271 - accuracy: 0.9309 - val_loss: 0.2386 - val_accuracy: 0.9390\n",
      "Epoch 9/30\n",
      "141/141 - 14s - loss: 0.2201 - accuracy: 0.9312 - val_loss: 0.1426 - val_accuracy: 0.9610\n",
      "Epoch 10/30\n",
      "141/141 - 15s - loss: 0.2012 - accuracy: 0.9369 - val_loss: 0.1859 - val_accuracy: 0.9560\n",
      "Epoch 11/30\n",
      "141/141 - 15s - loss: 0.1877 - accuracy: 0.9406 - val_loss: 0.2212 - val_accuracy: 0.9610\n",
      "Epoch 12/30\n",
      "141/141 - 16s - loss: 0.1822 - accuracy: 0.9438 - val_loss: 0.1237 - val_accuracy: 0.9660\n",
      "Epoch 13/30\n",
      "141/141 - 20s - loss: 0.1895 - accuracy: 0.9401 - val_loss: 0.1506 - val_accuracy: 0.9660\n",
      "Epoch 14/30\n",
      "141/141 - 18s - loss: 0.1841 - accuracy: 0.9421 - val_loss: 0.2353 - val_accuracy: 0.9550\n",
      "Epoch 15/30\n",
      "141/141 - 17s - loss: 0.1720 - accuracy: 0.9483 - val_loss: 0.1742 - val_accuracy: 0.9580\n",
      "Epoch 16/30\n",
      "141/141 - 17s - loss: 0.1773 - accuracy: 0.9479 - val_loss: 0.1672 - val_accuracy: 0.9490\n",
      "Epoch 17/30\n",
      "141/141 - 17s - loss: 0.1634 - accuracy: 0.9508 - val_loss: 0.1195 - val_accuracy: 0.9740\n",
      "Epoch 18/30\n",
      "141/141 - 17s - loss: 0.1685 - accuracy: 0.9502 - val_loss: 0.1748 - val_accuracy: 0.9610\n",
      "Epoch 19/30\n",
      "141/141 - 17s - loss: 0.1600 - accuracy: 0.9532 - val_loss: 0.1140 - val_accuracy: 0.9750\n",
      "Epoch 20/30\n",
      "141/141 - 17s - loss: 0.1510 - accuracy: 0.9534 - val_loss: 0.1488 - val_accuracy: 0.9600\n",
      "Epoch 21/30\n",
      "141/141 - 17s - loss: 0.1408 - accuracy: 0.9562 - val_loss: 0.1647 - val_accuracy: 0.9630\n",
      "Epoch 22/30\n",
      "141/141 - 17s - loss: 0.1566 - accuracy: 0.9528 - val_loss: 0.2304 - val_accuracy: 0.9590\n",
      "Epoch 23/30\n",
      "141/141 - 17s - loss: 0.1558 - accuracy: 0.9519 - val_loss: 0.1402 - val_accuracy: 0.9670\n",
      "Epoch 24/30\n",
      "141/141 - 17s - loss: 0.1483 - accuracy: 0.9552 - val_loss: 0.1639 - val_accuracy: 0.9700\n",
      "Epoch 25/30\n",
      "141/141 - 16s - loss: 0.1480 - accuracy: 0.9549 - val_loss: 0.1831 - val_accuracy: 0.9510\n",
      "Epoch 26/30\n",
      "141/141 - 17s - loss: 0.1360 - accuracy: 0.9594 - val_loss: 0.1615 - val_accuracy: 0.9590\n",
      "Epoch 27/30\n"
     ]
    }
   ],
   "source": [
    "# Fit the model\n",
    "history = model.fit(datagen.flow(X_train,Y_train, batch_size=64),\n",
    "                              epochs = 30, validation_data = (X_val,Y_val),\n",
    "                              verbose = 2, steps_per_epoch=None\n",
    "                              , callbacks=[learning_rate_reduction])"
   ]
  },
  {
   "cell_type": "code",
   "execution_count": null,
   "metadata": {},
   "outputs": [],
   "source": [
    "print(\"Testing X matrix shape\", X_test.shape)\n",
    "print(\"Testing Y matrix shape\", Y_test.shape)"
   ]
  },
  {
   "cell_type": "code",
   "execution_count": 23,
   "metadata": {},
   "outputs": [
    {
     "data": {
      "image/png": "[encoded data removed]",
      "text/plain": [
       "<Figure size 432x288 with 1 Axes>"
      ]
     },
     "metadata": {
      "needs_background": "light"
     },
     "output_type": "display_data"
    },
    {
     "name": "stdout",
     "output_type": "stream",
     "text": [
      "\n",
      "Test loss: 0.0544\n",
      "Test accuracy: 0.983\n"
     ]
    }
   ],
   "source": [
    "import matplotlib.pyplot as plt\n",
    "plt.plot(history.history['accuracy'])\n",
    "plt.plot(history.history['val_accuracy'])\n",
    "plt.title('model accuracy')\n",
    "plt.ylabel('accuracy')\n",
    "plt.xlabel('epoch')\n",
    "plt.legend(['training', 'validation'], loc='best')\n",
    "plt.show()\n",
    "\n",
    "loss, accuracy = model.evaluate(X_test, Y_test, verbose=0)\n",
    "print()\n",
    "print(f'Test loss: {loss:.3}')\n",
    "print(f'Test accuracy: {accuracy:.3}')"
   ]
  },
  {
   "cell_type": "code",
   "execution_count": 112,
   "metadata": {},
   "outputs": [
    {
     "name": "stdout",
     "output_type": "stream",
     "text": [
      "<class 'pandas.core.frame.DataFrame'>\n",
      "[6 6 8 ... 6 0 3]\n"
     ]
    }
   ],
   "source": [
    "final = pd.read_csv(\"C:/Users/yalaz/Documents/DSTI/Modules/ANN/Assignment/test_data.csv\", header=None)\n",
    "print(type(final))\n",
    "X_final = final.values.reshape(-1,28,28,1)\n",
    "\n",
    "predictions = model.predict(X_final)\n",
    "results = np.argmax(predictions,axis = 1)\n",
    "print(results)"
   ]
  },
  {
   "cell_type": "code",
   "execution_count": 113,
   "metadata": {},
   "outputs": [],
   "source": [
    "results = pd.Series(results,name=\"Category\")\n",
    "submission = pd.concat([pd.Series(range(0,50000),name = \"Id\"),results],axis = 1)\n",
    "\n",
    "submission.to_csv(\"C:/Users/yalaz/Documents/DSTI/Modules/ANN/Assignment/cnn_mnist4.csv\",index=False)"
   ]
  }
 ],
 "metadata": {
  "kernelspec": {
   "display_name": "Python 3 (ipykernel)",
   "language": "python",
   "name": "python3"
  },
  "language_info": {
   "codemirror_mode": {
    "name": "ipython",
    "version": 3
   },
   "file_extension": ".py",
   "mimetype": "text/x-python",
   "name": "python",
   "nbconvert_exporter": "python",
   "pygments_lexer": "ipython3",
   "version": "3.9.7"
  }
 },
 "nbformat": 4,
 "nbformat_minor": 4
}
